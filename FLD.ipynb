{
 "cells": [
  {
   "cell_type": "code",
   "execution_count": 54,
   "metadata": {},
   "outputs": [],
   "source": [
    "from sklearn import datasets\n",
    "import pandas as pd\n",
    "import numpy as np\n",
    "import seaborn as sn\n",
    "from matplotlib import pyplot as plt"
   ]
  },
  {
   "cell_type": "code",
   "execution_count": 31,
   "metadata": {},
   "outputs": [
    {
     "name": "stdout",
     "output_type": "stream",
     "text": [
      "150\n",
      "4\n",
      "[[5.1 3.5 1.4 0.2]\n",
      " [4.9 3.  1.4 0.2]\n",
      " [4.7 3.2 1.3 0.2]\n",
      " [4.6 3.1 1.5 0.2]\n",
      " [5.  3.6 1.4 0.2]]\n",
      "[0 0 0 0 0]\n",
      "[[ 0 50]\n",
      " [ 1 50]\n",
      " [ 2 50]]\n"
     ]
    }
   ],
   "source": [
    "iris = datasets.load_iris() #loading iris dataset\n",
    "print(iris.data.shape[0]) #total number of datapoints\n",
    "print(iris.data.shape[1]) #total number of features\n",
    "\n",
    "# printing first 5 rows of datapoints\n",
    "print(iris.data[0:5,:])\n",
    "print(iris.target[0:5])\n",
    "(unique, counts) = np.unique(iris.target, return_counts=True) #counting datapoints for each class\n",
    "print (np.asarray((unique, counts)).T) #so they are equal datapoints for each class"
   ]
  },
  {
   "cell_type": "code",
   "execution_count": 32,
   "metadata": {},
   "outputs": [
    {
     "name": "stdout",
     "output_type": "stream",
     "text": [
      "[[5.1 3.5 1.4 0.2]\n",
      " [4.9 3.  1.4 0.2]\n",
      " [4.7 3.2 1.3 0.2]\n",
      " [4.6 3.1 1.5 0.2]\n",
      " [5.  3.6 1.4 0.2]]\n",
      "(150, 1)\n"
     ]
    }
   ],
   "source": [
    "X=iris.data[:,0:4] #first four features are the dependant variables/features\n",
    "Y=iris.target[:] #class labels of each datapoints\n",
    "\n",
    "print(X[0:5])\n",
    "Y=Y.reshape(Y.shape[0],1)\n",
    "print(Y.shape)"
   ]
  },
  {
   "cell_type": "code",
   "execution_count": 33,
   "metadata": {},
   "outputs": [
    {
     "data": {
      "text/plain": [
       "<matplotlib.axes._subplots.AxesSubplot at 0x1e0848d6668>"
      ]
     },
     "execution_count": 33,
     "metadata": {},
     "output_type": "execute_result"
    },
    {
     "data": {
      "image/png": "[encoded data removed]",
      "text/plain": [
       "<Figure size 432x288 with 2 Axes>"
      ]
     },
     "metadata": {
      "needs_background": "light"
     },
     "output_type": "display_data"
    }
   ],
   "source": [
    "sn.heatmap(np.corrcoef(iris.data.T)) #below heatmap confirms correlation of parameters with each other for example feature 0 has strong correlation with 2"
   ]
  },
  {
   "cell_type": "code",
   "execution_count": 34,
   "metadata": {},
   "outputs": [],
   "source": [
    "dataset = pd.DataFrame({'F1': X[:, 0], 'F2': X[:, 1],'F3': X[:, 2], 'F4': X[:, 3], 'Class': Y[:,0] }) #converting data into dataframe just for more better results output"
   ]
  },
  {
   "cell_type": "code",
   "execution_count": 60,
   "metadata": {},
   "outputs": [
    {
     "data": {
      "text/plain": [
       "(150, 5)"
      ]
     },
     "execution_count": 60,
     "metadata": {},
     "output_type": "execute_result"
    }
   ],
   "source": [
    "dataset.shape"
   ]
  },
  {
   "cell_type": "code",
   "execution_count": 35,
   "metadata": {},
   "outputs": [
    {
     "data": {
      "text/html": [
       "<div>\n",
       "<style scoped>\n",
       "    .dataframe tbody tr th:only-of-type {\n",
       "        vertical-align: middle;\n",
       "    }\n",
       "\n",
       "    .dataframe tbody tr th {\n",
       "        vertical-align: top;\n",
       "    }\n",
       "\n",
       "    .dataframe thead th {\n",
       "        text-align: right;\n",
       "    }\n",
       "</style>\n",
       "<table border=\"1\" class=\"dataframe\">\n",
       "  <thead>\n",
       "    <tr style=\"text-align: right;\">\n",
       "      <th></th>\n",
       "      <th>F1</th>\n",
       "      <th>F2</th>\n",
       "      <th>F3</th>\n",
       "      <th>F4</th>\n",
       "      <th>Class</th>\n",
       "    </tr>\n",
       "  </thead>\n",
       "  <tbody>\n",
       "    <tr>\n",
       "      <th>0</th>\n",
       "      <td>5.1</td>\n",
       "      <td>3.5</td>\n",
       "      <td>1.4</td>\n",
       "      <td>0.2</td>\n",
       "      <td>0</td>\n",
       "    </tr>\n",
       "    <tr>\n",
       "      <th>1</th>\n",
       "      <td>4.9</td>\n",
       "      <td>3.0</td>\n",
       "      <td>1.4</td>\n",
       "      <td>0.2</td>\n",
       "      <td>0</td>\n",
       "    </tr>\n",
       "    <tr>\n",
       "      <th>2</th>\n",
       "      <td>4.7</td>\n",
       "      <td>3.2</td>\n",
       "      <td>1.3</td>\n",
       "      <td>0.2</td>\n",
       "      <td>0</td>\n",
       "    </tr>\n",
       "    <tr>\n",
       "      <th>3</th>\n",
       "      <td>4.6</td>\n",
       "      <td>3.1</td>\n",
       "      <td>1.5</td>\n",
       "      <td>0.2</td>\n",
       "      <td>0</td>\n",
       "    </tr>\n",
       "    <tr>\n",
       "      <th>4</th>\n",
       "      <td>5.0</td>\n",
       "      <td>3.6</td>\n",
       "      <td>1.4</td>\n",
       "      <td>0.2</td>\n",
       "      <td>0</td>\n",
       "    </tr>\n",
       "  </tbody>\n",
       "</table>\n",
       "</div>"
      ],
      "text/plain": [
       "    F1   F2   F3   F4  Class\n",
       "0  5.1  3.5  1.4  0.2      0\n",
       "1  4.9  3.0  1.4  0.2      0\n",
       "2  4.7  3.2  1.3  0.2      0\n",
       "3  4.6  3.1  1.5  0.2      0\n",
       "4  5.0  3.6  1.4  0.2      0"
      ]
     },
     "execution_count": 35,
     "metadata": {},
     "output_type": "execute_result"
    }
   ],
   "source": [
    "dataset.head(5)"
   ]
  },
  {
   "cell_type": "code",
   "execution_count": 36,
   "metadata": {},
   "outputs": [
    {
     "name": "stdout",
     "output_type": "stream",
     "text": [
      "    F1   F2   F3   F4\n",
      "0  5.1  3.5  1.4  0.2\n",
      "1  4.9  3.0  1.4  0.2\n",
      "2  4.7  3.2  1.3  0.2\n",
      "3  4.6  3.1  1.5  0.2\n"
     ]
    }
   ],
   "source": [
    "Class1= X[0:49,:] # segregation of data \n",
    "Class2= X[50:99,:]\n",
    "Class3= X[100:149,:]\n",
    "c= np.append(X,Y,axis=1)\n",
    "a=dataset[dataset[\"Class\"]==0]\n",
    "asd=a.iloc[0:4:,0:4] # outputinh first 4 datapoints for 0 class\n",
    "print(asd)"
   ]
  },
  {
   "cell_type": "code",
   "execution_count": 37,
   "metadata": {},
   "outputs": [
    {
     "name": "stdout",
     "output_type": "stream",
     "text": [
      "[[38.41632653 13.65469388 24.26836735  5.47979592]\n",
      " [13.65469388 16.94367347  8.12959184  4.80918367]\n",
      " [24.26836735  8.12959184 26.98408163  6.16040816]\n",
      " [ 5.47979592  4.80918367  6.16040816  6.10163265]]\n"
     ]
    }
   ],
   "source": [
    "mean1=np.mean(Class1,axis=0,keepdims=True) # evaluating mean for each class\n",
    "mean2=np.mean(Class2,axis=0,keepdims=True)\n",
    "mean3=np.mean(Class3,axis=0,keepdims=True)\n",
    "\n",
    "SW1= np.dot((Class1-mean1).T,(Class1-mean1)) #calculating SW for each class nxn matrice\n",
    "SW2= np.dot((Class2-mean2).T,(Class2-mean2))\n",
    "SW3= np.dot((Class3-mean3).T,(Class3-mean3))\n",
    "SW=SW1+SW2+SW3 # within class matrice for 3 classes d=4, c=3\n",
    "print(SW)"
   ]
  },
  {
   "cell_type": "code",
   "execution_count": 38,
   "metadata": {},
   "outputs": [
    {
     "name": "stdout",
     "output_type": "stream",
     "text": [
      "[[ 64.30310218 -20.21055838 166.92757754  72.02260961]\n",
      " [-20.21055838  11.46414816 -57.664525   -23.09245137]\n",
      " [166.92757754 -57.664525   438.63594527 187.43718487]\n",
      " [ 72.02260961 -23.09245137 187.43718487  80.71295852]]\n"
     ]
    }
   ],
   "source": [
    "# now findining between class matrice\n",
    "overall_mean=np.mean(X,axis=0, keepdims=True)\n",
    "SB1= np.dot((mean1-overall_mean).T,(mean1-overall_mean))\n",
    "SB2= np.dot((mean2-overall_mean).T,(mean2-overall_mean))\n",
    "SB3= np.dot((mean3-overall_mean).T,(mean3-overall_mean))\n",
    "SB=50*(SB1+SB2+SB3) # within class matrice for 3 classes d=4, c=3\n",
    "print(SB)"
   ]
  },
  {
   "cell_type": "code",
   "execution_count": 81,
   "metadata": {},
   "outputs": [
    {
     "name": "stdout",
     "output_type": "stream",
     "text": [
      "[3.25806148e+01 2.89489216e-01 8.85528130e-15 1.62935496e-04]\n",
      "Percentage of data variation captured by first eigen vector 99.11880195135986%\n",
      "Percentage of data variation captured by second eigen vector 0.8807023559932983%\n",
      "[[-0.19532813  0.01589451  0.07408783  0.72458009]\n",
      " [-0.39401373  0.57619863 -0.36197221 -0.43591093]\n",
      " [ 0.54351026 -0.25953125 -0.42819253 -0.45343361]\n",
      " [ 0.71498021  0.77484581  0.82470496  0.28171497]]\n"
     ]
    }
   ],
   "source": [
    "# finding SW-1SB\n",
    "a=np.dot(np.linalg.inv(SW),SB)\n",
    "w,v=np.linalg.eig(a)\n",
    "print(w) #eigen values. It can be seen first eigen value is most significant\n",
    "print(\"Percentage of data variation captured by first eigen vector \"+ str(w[0]*100/sum(w))+\"%\")\n",
    "print(\"Percentage of data variation captured by second eigen vector \"+ str(w[1]*100/sum(w))+\"%\")\n",
    "\n",
    "print(v) #eigen vector column for each eigen value"
   ]
  },
  {
   "cell_type": "code",
   "execution_count": 115,
   "metadata": {},
   "outputs": [
    {
     "data": {
      "text/plain": [
       "array([[-0.19532813,  0.01589451],\n",
       "       [-0.39401373,  0.57619863],\n",
       "       [ 0.54351026, -0.25953125],\n",
       "       [ 0.71498021,  0.77484581]])"
      ]
     },
     "execution_count": 115,
     "metadata": {},
     "output_type": "execute_result"
    }
   ],
   "source": [
    "v[:,0:2]"
   ]
  },
  {
   "cell_type": "code",
   "execution_count": 87,
   "metadata": {},
   "outputs": [
    {
     "data": {
      "text/plain": [
       "(150, 2)"
      ]
     },
     "execution_count": 87,
     "metadata": {},
     "output_type": "execute_result"
    }
   ],
   "source": [
    "#so lets convert our original dataset 150x4 into 150x2 (choosing first 2 eigen vector)\n",
    "X_revised=np.dot(iris.data,v[:,0:2]).reshape(150,2)\n",
    "X_revised.shape"
   ]
  },
  {
   "cell_type": "code",
   "execution_count": 92,
   "metadata": {},
   "outputs": [
    {
     "data": {
      "text/plain": [
       "array([[-1.47131113,  1.88938261],\n",
       "       [-1.23523864,  1.59810439],\n",
       "       [-1.32932678,  1.73611834]])"
      ]
     },
     "execution_count": 92,
     "metadata": {},
     "output_type": "execute_result"
    }
   ],
   "source": [
    "X_revised[0:3]\n",
    "# np.append(X_revised, iris.target,axis=0)"
   ]
  },
  {
   "cell_type": "code",
   "execution_count": 114,
   "metadata": {},
   "outputs": [
    {
     "data": {
      "image/png": "[encoded data removed]",
      "text/plain": [
       "<Figure size 432x288 with 1 Axes>"
      ]
     },
     "metadata": {
      "needs_background": "light"
     },
     "output_type": "display_data"
    }
   ],
   "source": [
    "for label,color in zip(range(0,3),('blue', 'red', 'green')):\n",
    "    plt.scatter(x=X_revised[:,0][iris.target == label], y=X_revised[:,1][iris.target == label],\n",
    "                color=color, alpha=0.5,label=label)\n",
    "\n",
    "plt.xlabel('LD1')\n",
    "plt.ylabel('LD2')\n",
    "\n",
    "plt.title('LDA: Iris projection onto the first 2 linear discriminants')\n",
    "\n",
    "#     # hide axis ticks\n",
    "plt.grid()\n",
    "plt.show()\n",
    "# below graph can shows we have done pretty good job in seperating except few points"
   ]
  }
 ],
 "metadata": {
  "kernelspec": {
   "display_name": "Python 3",
   "language": "python",
   "name": "python3"
  },
  "language_info": {
   "codemirror_mode": {
    "name": "ipython",
    "version": 3
   },
   "file_extension": ".py",
   "mimetype": "text/x-python",
   "name": "python",
   "nbconvert_exporter": "python",
   "pygments_lexer": "ipython3",
   "version": "3.7.3"
  }
 },
 "nbformat": 4,
 "nbformat_minor": 4
}
